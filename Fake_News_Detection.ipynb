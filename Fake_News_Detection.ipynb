{
  "nbformat": 4,
  "nbformat_minor": 0,
  "metadata": {
    "colab": {
      "provenance": [],
      "include_colab_link": true
    },
    "kernelspec": {
      "name": "python3",
      "display_name": "Python 3"
    },
    "language_info": {
      "name": "python"
    }
  },
  "cells": [
    {
      "cell_type": "markdown",
      "metadata": {
        "id": "view-in-github",
        "colab_type": "text"
      },
      "source": [
        "<a href=\"https://colab.research.google.com/github/Sohamcoder1/Fake-News-Detector/blob/soham-branch/Fake_News_Detection.ipynb\" target=\"_parent\"><img src=\"https://colab.research.google.com/assets/colab-badge.svg\" alt=\"Open In Colab\"/></a>"
      ]
    },
    {
      "cell_type": "code",
      "source": [
        "#Importing libraries\n",
        "import pandas as pd\n",
        "import numpy as np\n",
        "import matplotlib.pyplot as plt\n",
        "import seaborn as sns\n",
        "from sklearn.model_selection import train_test_split\n",
        "from sklearn.metrics import accuracy_score\n",
        "from sklearn.metrics import confusion_matrix\n",
        "from sklearn.metrics import classification_report\n",
        "from sklearn.metrics import roc_auc_score\n",
        "from sklearn.metrics import roc_curve\n",
        "import re\n",
        "import string\n",
        "import requests\n",
        "from requests.utils import quote"
      ],
      "metadata": {
        "id": "msZS4f0WoM_w"
      },
      "execution_count": null,
      "outputs": []
    },
    {
      "cell_type": "code",
      "source": [
        "#Real time news api (https://gnews.io/dashboard) -- 100 requests per day\n",
        "news_api_key = 'd2b27a1e3f818564545508b6c744d24a'\n",
        "#Endpoints are -> {search , top-headlines}\n",
        "endpoint = 'search'\n",
        "#Parameters are -> {The topic the user want to search}\n",
        "question = input('Enter your question: ')\n",
        "parameters = f'q={quote(question)}&lang=en&max=5'\n",
        "#Example (try this link to understand the url)-> https://gnews.io/api/v4/top-headlines?q=modi&lang=en&max=5&apikey=d2b27a1e3f818564545508b6c744d24a\n",
        "news_api_url = f'https://gnews.io/api/v4/{endpoint}?{parameters}&apikey={news_api_key}'\n",
        "\n",
        "response = requests.get(news_api_url)\n",
        "data = response.json()\n",
        "\n",
        "if 'articles' in data:\n",
        "    for article in data['articles']:\n",
        "        print(f\"Published Time: {article['publishedAt']}\")\n",
        "        print(f\"Title: {article['title']}\")\n",
        "        print(f\"Description: {article['description']}\")\n",
        "        print(f\"Image: {article['image']}\")\n",
        "        print(f\"Content: {article['content']}\")\n",
        "        print(f\"Source Name: {article['source']['name']}\")\n",
        "        print(f\"Source URL: {article['source']['url']}\")\n",
        "        print(f\"Source Country: {article['source']['country']}\")\n",
        "        print(f\"URL: {article['url']}\\n\")\n",
        "else:\n",
        "    print(data)"
      ],
      "metadata": {
        "colab": {
          "base_uri": "https://localhost:8080/"
        },
        "id": "Sd6poGBt6bJi",
        "outputId": "893f389a-4c87-4cf7-bc75-4062c3c4d214"
      },
      "execution_count": null,
      "outputs": [
        {
          "output_type": "stream",
          "name": "stdout",
          "text": [
            "Enter your question: g20 meet\n",
            "Published Time: 2025-08-21T12:06:08Z\n",
            "Title: India-Russia To Strengthen Trade Ties To Offset Trump Tariffs, BIG Takeaways From Jaishankar-Lavrov Meet\n",
            "Description: EAM S. Jaishankar and Russian Foreign Minister Sergey Lavrov reaffirmed India–Russia’s deep-rooted ties in Moscow, pledging cooperation in labour, trade, and connectivity. The leaders announced new consulates, backed anti-terror efforts, and vowed closer engagement in BRICS, G20, and SCO.\n",
            "Image: https://img.republicworld.com/all_images/jaishankar-lavrov-meet-1755781005544-16_9.webp\n",
            "Content: External Affairs Minister S. Jaishankar and his Russian counterpart Sergey Lavrov on Thursday underlined that India–Russia ties remain anchored in “trust” and “shared interests”, while opening the door to new avenues of cooperation. The leaders addre... [1929 chars]\n",
            "Source Name: Republic World\n",
            "Source URL: https://www.republicworld.com\n",
            "Source Country: in\n",
            "URL: https://www.republicworld.com/business/india-russia-to-strengthen-trade-ties-to-offset-trump-tariffs-big-takeaways-from-jaishankar-lavrov-meet\n",
            "\n",
            "Published Time: 2025-08-20T06:38:13Z\n",
            "Title: 2017 Row When Trump Confiscated His Translator's Notes After Putin Meet | Firstpost America | N18G\n",
            "Description: In 2017, Donald Trump met Russian President Vladimir Putin privately during the G20 summit. Reports later revealed that Trump took the interpreter’s notes and told them not to share details, not even with his own administration. This sparked outrage in Washington, as past presidents usually kept detailed records of such meetings. From 2017 to 2019, Trump held at least five private talks with Putin without full official records. In 2019, two watchdog groups sued the State Department, accusing then–Secretary of State Mike Pompeo of violating federal records law for failing to preserve the Hamburg meeting notes. The notes were never recovered. With Trump and Putin set to meet in Alaska on August 15, the 2017 secrecy is back in focus.\n",
            "Image: https://media.nw18.com/media-assets/wbx6pq/08-2025/20-2025/lNJ0Q0il4j-1308-TRUMP-TRANSLATORVODjpg-8uCPtB4N9j.jpg?im=FitAndFill,width=1200,height=675\n",
            "Content: 2017 Row When Trump Confiscated His Translator's Notes After Putin Meet | Firstpost America | N18G\n",
            "In 2017, Donald Trump met Russian President Vladimir Putin privately during the G20 summit. Reports later revealed that Trump took the interpreter’s no... [598 chars]\n",
            "Source Name: Firstpost\n",
            "Source URL: https://www.firstpost.com\n",
            "Source Country: in\n",
            "URL: https://www.firstpost.com/web-show/firstpost-america/2017-row-when-trump-confiscated-his-translators-notes-after-putin-meet-firstpost-america-n18g-vd1369027/\n",
            "\n"
          ]
        }
      ]
    },
    {
      "cell_type": "code",
      "source": [
        "Soham"
      ],
      "metadata": {
        "id": "dTOcGJwMpR9p"
      },
      "execution_count": null,
      "outputs": []
    }
  ]
}